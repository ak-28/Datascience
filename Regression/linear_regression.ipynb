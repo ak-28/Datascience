{
 "cells": [
  {
   "cell_type": "markdown",
   "metadata": {},
   "source": [
    "# Imports"
   ]
  },
  {
   "cell_type": "code",
   "execution_count": 40,
   "metadata": {},
   "outputs": [],
   "source": [
    "import pandas as pd \n",
    "import numpy as np \n",
    "\n",
    "from sklearn.datasets import fetch_california_housing\n",
    "import statsmodels as sm\n",
    "from sklearn.model_selection import train_test_split\n",
    "from sklearn.metrics import r2_score, mean_absolute_error, mean_absolute_percentage_error\n",
    "from statsmodels.stats.outliers_influence import variance_inflation_factor\n",
    "import matplotlib.pyplot as plt\n",
    "import seaborn as sns\n",
    "from sklearn.decomposition import PCA\n",
    "from sklearn.linear_model import LinearRegression, Lasso, Ridge"
   ]
  },
  {
   "cell_type": "markdown",
   "metadata": {},
   "source": [
    "# Data Load"
   ]
  },
  {
   "cell_type": "code",
   "execution_count": 2,
   "metadata": {},
   "outputs": [
    {
     "name": "stdout",
     "output_type": "stream",
     "text": [
      "   MedInc  HouseAge  AveRooms  AveBedrms  Population  AveOccup  Latitude  \\\n",
      "0  8.3252      41.0  6.984127   1.023810       322.0  2.555556     37.88   \n",
      "1  8.3014      21.0  6.238137   0.971880      2401.0  2.109842     37.86   \n",
      "2  7.2574      52.0  8.288136   1.073446       496.0  2.802260     37.85   \n",
      "3  5.6431      52.0  5.817352   1.073059       558.0  2.547945     37.85   \n",
      "4  3.8462      52.0  6.281853   1.081081       565.0  2.181467     37.85   \n",
      "\n",
      "   Longitude  MedHouseValue  \n",
      "0    -122.23          4.526  \n",
      "1    -122.22          3.585  \n",
      "2    -122.24          3.521  \n",
      "3    -122.25          3.413  \n",
      "4    -122.25          3.422  \n"
     ]
    }
   ],
   "source": [
    "data = fetch_california_housing(as_frame=True)\n",
    "df = pd.concat([data.data, data.target.rename(\"MedHouseValue\")], axis=1)\n",
    "print(df.head())"
   ]
  },
  {
   "cell_type": "markdown",
   "metadata": {},
   "source": [
    "# Assumptions"
   ]
  },
  {
   "cell_type": "code",
   "execution_count": 4,
   "metadata": {},
   "outputs": [],
   "source": [
    "# Assumption of Linear regression\n",
    "\n",
    "# 1. There exists a linear relationship b/w features and target variable\n",
    "# 2. No or low multicollinearity between features\n",
    "# 3. Homoscedasity: the variance of residuals(errors) should be same for all levels of independent variable\n",
    "#         - the spread of error( predicted - actual) should be the same whether the predicted value is small or large\n",
    "# 4. Normality of errors\n",
    "#     - the errors should follow a bell curve\n",
    "#     - for valid hypothesis testing\n",
    "#     - Not mandatory but better inferences if true\n",
    "# 5. Independence of errors\n",
    "#     - observations are independent and residuals are not correlated'\n",
    "#     - can do Durbin-Watson test for correlation of residuals\n",
    "#         - 2 = No autocorrelation\n",
    "#         - < 1.5 = positive correlation\n",
    "#         - > 2.5 = negative correlation\n"
   ]
  },
  {
   "cell_type": "code",
   "execution_count": 20,
   "metadata": {},
   "outputs": [],
   "source": [
    "vif_data = pd.DataFrame()\n",
    "vif_data['feature'] = df.columns\n",
    "vif_data['vif_factor'] = [variance_inflation_factor(df,i) for i in range(df.shape[1])]"
   ]
  },
  {
   "cell_type": "code",
   "execution_count": 21,
   "metadata": {},
   "outputs": [
    {
     "data": {
      "text/html": [
       "<div>\n",
       "<style scoped>\n",
       "    .dataframe tbody tr th:only-of-type {\n",
       "        vertical-align: middle;\n",
       "    }\n",
       "\n",
       "    .dataframe tbody tr th {\n",
       "        vertical-align: top;\n",
       "    }\n",
       "\n",
       "    .dataframe thead th {\n",
       "        text-align: right;\n",
       "    }\n",
       "</style>\n",
       "<table border=\"1\" class=\"dataframe\">\n",
       "  <thead>\n",
       "    <tr style=\"text-align: right;\">\n",
       "      <th></th>\n",
       "      <th>feature</th>\n",
       "      <th>vif_factor</th>\n",
       "    </tr>\n",
       "  </thead>\n",
       "  <tbody>\n",
       "    <tr>\n",
       "      <th>0</th>\n",
       "      <td>MedInc</td>\n",
       "      <td>19.624998</td>\n",
       "    </tr>\n",
       "    <tr>\n",
       "      <th>1</th>\n",
       "      <td>HouseAge</td>\n",
       "      <td>7.592663</td>\n",
       "    </tr>\n",
       "    <tr>\n",
       "      <th>2</th>\n",
       "      <td>AveRooms</td>\n",
       "      <td>47.956351</td>\n",
       "    </tr>\n",
       "    <tr>\n",
       "      <th>3</th>\n",
       "      <td>AveBedrms</td>\n",
       "      <td>45.358192</td>\n",
       "    </tr>\n",
       "    <tr>\n",
       "      <th>4</th>\n",
       "      <td>Population</td>\n",
       "      <td>2.936078</td>\n",
       "    </tr>\n",
       "    <tr>\n",
       "      <th>5</th>\n",
       "      <td>AveOccup</td>\n",
       "      <td>1.099530</td>\n",
       "    </tr>\n",
       "    <tr>\n",
       "      <th>6</th>\n",
       "      <td>Latitude</td>\n",
       "      <td>568.497332</td>\n",
       "    </tr>\n",
       "    <tr>\n",
       "      <th>7</th>\n",
       "      <td>Longitude</td>\n",
       "      <td>640.064211</td>\n",
       "    </tr>\n",
       "    <tr>\n",
       "      <th>8</th>\n",
       "      <td>MedHouseValue</td>\n",
       "      <td>9.285659</td>\n",
       "    </tr>\n",
       "  </tbody>\n",
       "</table>\n",
       "</div>"
      ],
      "text/plain": [
       "         feature  vif_factor\n",
       "0         MedInc   19.624998\n",
       "1       HouseAge    7.592663\n",
       "2       AveRooms   47.956351\n",
       "3      AveBedrms   45.358192\n",
       "4     Population    2.936078\n",
       "5       AveOccup    1.099530\n",
       "6       Latitude  568.497332\n",
       "7      Longitude  640.064211\n",
       "8  MedHouseValue    9.285659"
      ]
     },
     "execution_count": 21,
     "metadata": {},
     "output_type": "execute_result"
    }
   ],
   "source": [
    "vif_data"
   ]
  },
  {
   "cell_type": "code",
   "execution_count": 22,
   "metadata": {},
   "outputs": [
    {
     "data": {
      "image/png": "[encoded data removed]",
      "text/plain": [
       "<Figure size 640x480 with 2 Axes>"
      ]
     },
     "metadata": {},
     "output_type": "display_data"
    }
   ],
   "source": [
    "corr = df.corr()\n",
    "\n",
    "sns.heatmap(corr, annot=True, cmap='coolwarm')\n",
    "plt.show()"
   ]
  },
  {
   "cell_type": "code",
   "execution_count": 27,
   "metadata": {},
   "outputs": [],
   "source": [
    "df['Rooms'] = PCA(n_components=1).fit_transform(df[['AveRooms', 'AveBedrms']])\n",
    "df['Location'] = PCA(n_components=1).fit_transform(df[['Latitude', 'Longitude']])"
   ]
  },
  {
   "cell_type": "code",
   "execution_count": 28,
   "metadata": {},
   "outputs": [],
   "source": [
    "x_train, x_test, y_train, y_test = train_test_split(\n",
    "    df[[col for col in df.columns if col not in ('MedHouseValue', 'AveRooms', 'AveBedrms', 'Latitude', 'Longitude')]],\n",
    "    df['MedHouseValue'],\n",
    "    test_size=0.33,\n",
    "    random_state=42\n",
    ")"
   ]
  },
  {
   "cell_type": "markdown",
   "metadata": {},
   "source": [
    "# OLS"
   ]
  },
  {
   "cell_type": "code",
   "execution_count": 29,
   "metadata": {},
   "outputs": [],
   "source": [
    "import statsmodels.api as sm"
   ]
  },
  {
   "cell_type": "code",
   "execution_count": 30,
   "metadata": {},
   "outputs": [],
   "source": [
    "x = sm.add_constant(x_train)\n",
    "y = y_train\n",
    "\n",
    "model = sm.OLS(y, x).fit()"
   ]
  },
  {
   "cell_type": "code",
   "execution_count": 31,
   "metadata": {},
   "outputs": [
    {
     "data": {
      "text/html": [
       "<table class=\"simpletable\">\n",
       "<caption>OLS Regression Results</caption>\n",
       "<tr>\n",
       "  <th>Dep. Variable:</th>      <td>MedHouseValue</td>  <th>  R-squared:         </th> <td>   0.515</td> \n",
       "</tr>\n",
       "<tr>\n",
       "  <th>Model:</th>                   <td>OLS</td>       <th>  Adj. R-squared:    </th> <td>   0.515</td> \n",
       "</tr>\n",
       "<tr>\n",
       "  <th>Method:</th>             <td>Least Squares</td>  <th>  F-statistic:       </th> <td>   2447.</td> \n",
       "</tr>\n",
       "<tr>\n",
       "  <th>Date:</th>             <td>Sat, 19 Jul 2025</td> <th>  Prob (F-statistic):</th>  <td>  0.00</td>  \n",
       "</tr>\n",
       "<tr>\n",
       "  <th>Time:</th>                 <td>23:32:18</td>     <th>  Log-Likelihood:    </th> <td> -16593.</td> \n",
       "</tr>\n",
       "<tr>\n",
       "  <th>No. Observations:</th>      <td> 13828</td>      <th>  AIC:               </th> <td>3.320e+04</td>\n",
       "</tr>\n",
       "<tr>\n",
       "  <th>Df Residuals:</th>          <td> 13821</td>      <th>  BIC:               </th> <td>3.325e+04</td>\n",
       "</tr>\n",
       "<tr>\n",
       "  <th>Df Model:</th>              <td>     6</td>      <th>                     </th>     <td> </td>    \n",
       "</tr>\n",
       "<tr>\n",
       "  <th>Covariance Type:</th>      <td>nonrobust</td>    <th>                     </th>     <td> </td>    \n",
       "</tr>\n",
       "</table>\n",
       "<table class=\"simpletable\">\n",
       "<tr>\n",
       "       <td></td>         <th>coef</th>     <th>std err</th>      <th>t</th>      <th>P>|t|</th>  <th>[0.025</th>    <th>0.975]</th>  \n",
       "</tr>\n",
       "<tr>\n",
       "  <th>const</th>      <td>   -0.1706</td> <td>    0.027</td> <td>   -6.274</td> <td> 0.000</td> <td>   -0.224</td> <td>   -0.117</td>\n",
       "</tr>\n",
       "<tr>\n",
       "  <th>MedInc</th>     <td>    0.4399</td> <td>    0.004</td> <td>  115.803</td> <td> 0.000</td> <td>    0.432</td> <td>    0.447</td>\n",
       "</tr>\n",
       "<tr>\n",
       "  <th>HouseAge</th>   <td>    0.0177</td> <td>    0.001</td> <td>   30.623</td> <td> 0.000</td> <td>    0.017</td> <td>    0.019</td>\n",
       "</tr>\n",
       "<tr>\n",
       "  <th>Population</th> <td>   2.7e-05</td> <td> 6.33e-06</td> <td>    4.268</td> <td> 0.000</td> <td> 1.46e-05</td> <td> 3.94e-05</td>\n",
       "</tr>\n",
       "<tr>\n",
       "  <th>AveOccup</th>   <td>   -0.0041</td> <td>    0.001</td> <td>   -7.479</td> <td> 0.000</td> <td>   -0.005</td> <td>   -0.003</td>\n",
       "</tr>\n",
       "<tr>\n",
       "  <th>Rooms</th>      <td>   -0.0215</td> <td>    0.003</td> <td>   -7.272</td> <td> 0.000</td> <td>   -0.027</td> <td>   -0.016</td>\n",
       "</tr>\n",
       "<tr>\n",
       "  <th>Location</th>   <td>   -0.0132</td> <td>    0.002</td> <td>   -5.499</td> <td> 0.000</td> <td>   -0.018</td> <td>   -0.008</td>\n",
       "</tr>\n",
       "</table>\n",
       "<table class=\"simpletable\">\n",
       "<tr>\n",
       "  <th>Omnibus:</th>       <td>3074.775</td> <th>  Durbin-Watson:     </th> <td>   1.980</td>\n",
       "</tr>\n",
       "<tr>\n",
       "  <th>Prob(Omnibus):</th>  <td> 0.000</td>  <th>  Jarque-Bera (JB):  </th> <td>8282.171</td>\n",
       "</tr>\n",
       "<tr>\n",
       "  <th>Skew:</th>           <td> 1.191</td>  <th>  Prob(JB):          </th> <td>    0.00</td>\n",
       "</tr>\n",
       "<tr>\n",
       "  <th>Kurtosis:</th>       <td> 5.950</td>  <th>  Cond. No.          </th> <td>7.32e+03</td>\n",
       "</tr>\n",
       "</table><br/><br/>Notes:<br/>[1] Standard Errors assume that the covariance matrix of the errors is correctly specified.<br/>[2] The condition number is large, 7.32e+03. This might indicate that there are<br/>strong multicollinearity or other numerical problems."
      ],
      "text/latex": [
       "\\begin{center}\n",
       "\\begin{tabular}{lclc}\n",
       "\\toprule\n",
       "\\textbf{Dep. Variable:}    &  MedHouseValue   & \\textbf{  R-squared:         } &     0.515   \\\\\n",
       "\\textbf{Model:}            &       OLS        & \\textbf{  Adj. R-squared:    } &     0.515   \\\\\n",
       "\\textbf{Method:}           &  Least Squares   & \\textbf{  F-statistic:       } &     2447.   \\\\\n",
       "\\textbf{Date:}             & Sat, 19 Jul 2025 & \\textbf{  Prob (F-statistic):} &     0.00    \\\\\n",
       "\\textbf{Time:}             &     23:32:18     & \\textbf{  Log-Likelihood:    } &   -16593.   \\\\\n",
       "\\textbf{No. Observations:} &       13828      & \\textbf{  AIC:               } & 3.320e+04   \\\\\n",
       "\\textbf{Df Residuals:}     &       13821      & \\textbf{  BIC:               } & 3.325e+04   \\\\\n",
       "\\textbf{Df Model:}         &           6      & \\textbf{                     } &             \\\\\n",
       "\\textbf{Covariance Type:}  &    nonrobust     & \\textbf{                     } &             \\\\\n",
       "\\bottomrule\n",
       "\\end{tabular}\n",
       "\\begin{tabular}{lcccccc}\n",
       "                    & \\textbf{coef} & \\textbf{std err} & \\textbf{t} & \\textbf{P$> |$t$|$} & \\textbf{[0.025} & \\textbf{0.975]}  \\\\\n",
       "\\midrule\n",
       "\\textbf{const}      &      -0.1706  &        0.027     &    -6.274  &         0.000        &       -0.224    &       -0.117     \\\\\n",
       "\\textbf{MedInc}     &       0.4399  &        0.004     &   115.803  &         0.000        &        0.432    &        0.447     \\\\\n",
       "\\textbf{HouseAge}   &       0.0177  &        0.001     &    30.623  &         0.000        &        0.017    &        0.019     \\\\\n",
       "\\textbf{Population} &      2.7e-05  &     6.33e-06     &     4.268  &         0.000        &     1.46e-05    &     3.94e-05     \\\\\n",
       "\\textbf{AveOccup}   &      -0.0041  &        0.001     &    -7.479  &         0.000        &       -0.005    &       -0.003     \\\\\n",
       "\\textbf{Rooms}      &      -0.0215  &        0.003     &    -7.272  &         0.000        &       -0.027    &       -0.016     \\\\\n",
       "\\textbf{Location}   &      -0.0132  &        0.002     &    -5.499  &         0.000        &       -0.018    &       -0.008     \\\\\n",
       "\\bottomrule\n",
       "\\end{tabular}\n",
       "\\begin{tabular}{lclc}\n",
       "\\textbf{Omnibus:}       & 3074.775 & \\textbf{  Durbin-Watson:     } &    1.980  \\\\\n",
       "\\textbf{Prob(Omnibus):} &   0.000  & \\textbf{  Jarque-Bera (JB):  } & 8282.171  \\\\\n",
       "\\textbf{Skew:}          &   1.191  & \\textbf{  Prob(JB):          } &     0.00  \\\\\n",
       "\\textbf{Kurtosis:}      &   5.950  & \\textbf{  Cond. No.          } & 7.32e+03  \\\\\n",
       "\\bottomrule\n",
       "\\end{tabular}\n",
       "%\\caption{OLS Regression Results}\n",
       "\\end{center}\n",
       "\n",
       "Notes: \\newline\n",
       " [1] Standard Errors assume that the covariance matrix of the errors is correctly specified. \\newline\n",
       " [2] The condition number is large, 7.32e+03. This might indicate that there are \\newline\n",
       " strong multicollinearity or other numerical problems."
      ],
      "text/plain": [
       "<class 'statsmodels.iolib.summary.Summary'>\n",
       "\"\"\"\n",
       "                            OLS Regression Results                            \n",
       "==============================================================================\n",
       "Dep. Variable:          MedHouseValue   R-squared:                       0.515\n",
       "Model:                            OLS   Adj. R-squared:                  0.515\n",
       "Method:                 Least Squares   F-statistic:                     2447.\n",
       "Date:                Sat, 19 Jul 2025   Prob (F-statistic):               0.00\n",
       "Time:                        23:32:18   Log-Likelihood:                -16593.\n",
       "No. Observations:               13828   AIC:                         3.320e+04\n",
       "Df Residuals:                   13821   BIC:                         3.325e+04\n",
       "Df Model:                           6                                         \n",
       "Covariance Type:            nonrobust                                         \n",
       "==============================================================================\n",
       "                 coef    std err          t      P>|t|      [0.025      0.975]\n",
       "------------------------------------------------------------------------------\n",
       "const         -0.1706      0.027     -6.274      0.000      -0.224      -0.117\n",
       "MedInc         0.4399      0.004    115.803      0.000       0.432       0.447\n",
       "HouseAge       0.0177      0.001     30.623      0.000       0.017       0.019\n",
       "Population    2.7e-05   6.33e-06      4.268      0.000    1.46e-05    3.94e-05\n",
       "AveOccup      -0.0041      0.001     -7.479      0.000      -0.005      -0.003\n",
       "Rooms         -0.0215      0.003     -7.272      0.000      -0.027      -0.016\n",
       "Location      -0.0132      0.002     -5.499      0.000      -0.018      -0.008\n",
       "==============================================================================\n",
       "Omnibus:                     3074.775   Durbin-Watson:                   1.980\n",
       "Prob(Omnibus):                  0.000   Jarque-Bera (JB):             8282.171\n",
       "Skew:                           1.191   Prob(JB):                         0.00\n",
       "Kurtosis:                       5.950   Cond. No.                     7.32e+03\n",
       "==============================================================================\n",
       "\n",
       "Notes:\n",
       "[1] Standard Errors assume that the covariance matrix of the errors is correctly specified.\n",
       "[2] The condition number is large, 7.32e+03. This might indicate that there are\n",
       "strong multicollinearity or other numerical problems.\n",
       "\"\"\""
      ]
     },
     "execution_count": 31,
     "metadata": {},
     "output_type": "execute_result"
    }
   ],
   "source": [
    "model.summary()"
   ]
  },
  {
   "cell_type": "code",
   "execution_count": 34,
   "metadata": {},
   "outputs": [],
   "source": [
    "x_test = sm.add_constant(x_test)\n",
    "y_pred = model.predict(x_test)"
   ]
  },
  {
   "cell_type": "code",
   "execution_count": 36,
   "metadata": {},
   "outputs": [
    {
     "name": "stdout",
     "output_type": "stream",
     "text": [
      "r2_score = 0.5158692405647838\n",
      " mae = 0.5978769896621448\n",
      " mape = 0.37162471250494794\n"
     ]
    }
   ],
   "source": [
    "print(f'r2_score = {r2_score(y_pred=y_pred, y_true=y_test)}\\n mae = {mean_absolute_error(y_pred=y_pred, y_true=y_test)}\\n mape = {mean_absolute_percentage_error(y_pred=y_pred, y_true=y_test)}')"
   ]
  },
  {
   "cell_type": "markdown",
   "metadata": {},
   "source": [
    "# Linear regression"
   ]
  },
  {
   "cell_type": "code",
   "execution_count": 37,
   "metadata": {},
   "outputs": [
    {
     "name": "stdout",
     "output_type": "stream",
     "text": [
      "   MedInc  HouseAge  AveRooms  AveBedrms  Population  AveOccup  Latitude  \\\n",
      "0  8.3252      41.0  6.984127   1.023810       322.0  2.555556     37.88   \n",
      "1  8.3014      21.0  6.238137   0.971880      2401.0  2.109842     37.86   \n",
      "2  7.2574      52.0  8.288136   1.073446       496.0  2.802260     37.85   \n",
      "3  5.6431      52.0  5.817352   1.073059       558.0  2.547945     37.85   \n",
      "4  3.8462      52.0  6.281853   1.081081       565.0  2.181467     37.85   \n",
      "\n",
      "   Longitude  MedHouseValue  \n",
      "0    -122.23          4.526  \n",
      "1    -122.22          3.585  \n",
      "2    -122.24          3.521  \n",
      "3    -122.25          3.413  \n",
      "4    -122.25          3.422  \n"
     ]
    }
   ],
   "source": [
    "data = fetch_california_housing(as_frame=True)\n",
    "df = pd.concat([data.data, data.target.rename(\"MedHouseValue\")], axis=1)\n",
    "print(df.head())"
   ]
  },
  {
   "cell_type": "code",
   "execution_count": 38,
   "metadata": {},
   "outputs": [],
   "source": [
    "x_train, x_test, y_train, y_test = train_test_split(\n",
    "    df[[col for col in df.columns if col not in ('MedHouseValue')]],\n",
    "    df['MedHouseValue'],\n",
    "    test_size=0.33,\n",
    "    random_state=42\n",
    ")"
   ]
  },
  {
   "cell_type": "code",
   "execution_count": 41,
   "metadata": {},
   "outputs": [],
   "source": [
    "model_lasso = Lasso()\n",
    "model_ridge = Ridge()\n",
    "\n",
    "model_lasso.fit(x_train, y_train)\n",
    "model_ridge.fit(x_train, y_train)\n",
    "\n",
    "y_pred_lasso = model_lasso.predict(x_test)\n",
    "y_pred_ridge = model_ridge.predict(x_test)"
   ]
  },
  {
   "cell_type": "code",
   "execution_count": 42,
   "metadata": {},
   "outputs": [
    {
     "name": "stdout",
     "output_type": "stream",
     "text": [
      "r2_score = 0.28450867788418377\n",
      " mae = 0.7678314827397038\n",
      " mape = 0.5234851892181361\n"
     ]
    }
   ],
   "source": [
    "print(f'r2_score = {r2_score(y_pred=y_pred_lasso, y_true=y_test)}\\n mae = {mean_absolute_error(y_pred=y_pred_lasso, y_true=y_test)}\\n mape = {mean_absolute_percentage_error(y_pred=y_pred_lasso, y_true=y_test)}')"
   ]
  },
  {
   "cell_type": "code",
   "execution_count": 43,
   "metadata": {},
   "outputs": [
    {
     "name": "stdout",
     "output_type": "stream",
     "text": [
      "r2_score = 0.5970944804683738\n",
      " mae = 0.5295798638434877\n",
      " mape = 0.3178688442238564\n"
     ]
    }
   ],
   "source": [
    "print(f'r2_score = {r2_score(y_pred=y_pred_ridge, y_true=y_test)}\\n mae = {mean_absolute_error(y_pred=y_pred_ridge, y_true=y_test)}\\n mape = {mean_absolute_percentage_error(y_pred=y_pred_ridge, y_true=y_test)}')"
   ]
  },
  {
   "cell_type": "code",
   "execution_count": 46,
   "metadata": {},
   "outputs": [
    {
     "data": {
      "text/html": [
       "<div>\n",
       "<style scoped>\n",
       "    .dataframe tbody tr th:only-of-type {\n",
       "        vertical-align: middle;\n",
       "    }\n",
       "\n",
       "    .dataframe tbody tr th {\n",
       "        vertical-align: top;\n",
       "    }\n",
       "\n",
       "    .dataframe thead th {\n",
       "        text-align: right;\n",
       "    }\n",
       "</style>\n",
       "<table border=\"1\" class=\"dataframe\">\n",
       "  <thead>\n",
       "    <tr style=\"text-align: right;\">\n",
       "      <th></th>\n",
       "      <th>Col</th>\n",
       "      <th>coef_lasso</th>\n",
       "      <th>coef_ridge</th>\n",
       "    </tr>\n",
       "  </thead>\n",
       "  <tbody>\n",
       "    <tr>\n",
       "      <th>0</th>\n",
       "      <td>MedInc</td>\n",
       "      <td>0.145700</td>\n",
       "      <td>4.446810e-01</td>\n",
       "    </tr>\n",
       "    <tr>\n",
       "      <th>1</th>\n",
       "      <td>HouseAge</td>\n",
       "      <td>0.005806</td>\n",
       "      <td>9.552146e-03</td>\n",
       "    </tr>\n",
       "    <tr>\n",
       "      <th>2</th>\n",
       "      <td>AveRooms</td>\n",
       "      <td>0.000000</td>\n",
       "      <td>-1.216311e-01</td>\n",
       "    </tr>\n",
       "    <tr>\n",
       "      <th>3</th>\n",
       "      <td>AveBedrms</td>\n",
       "      <td>-0.000000</td>\n",
       "      <td>7.771310e-01</td>\n",
       "    </tr>\n",
       "    <tr>\n",
       "      <th>4</th>\n",
       "      <td>Population</td>\n",
       "      <td>-0.000006</td>\n",
       "      <td>-7.191911e-08</td>\n",
       "    </tr>\n",
       "    <tr>\n",
       "      <th>5</th>\n",
       "      <td>AveOccup</td>\n",
       "      <td>-0.000000</td>\n",
       "      <td>-3.298916e-03</td>\n",
       "    </tr>\n",
       "    <tr>\n",
       "      <th>6</th>\n",
       "      <td>Latitude</td>\n",
       "      <td>-0.000000</td>\n",
       "      <td>-4.191216e-01</td>\n",
       "    </tr>\n",
       "    <tr>\n",
       "      <th>7</th>\n",
       "      <td>Longitude</td>\n",
       "      <td>-0.000000</td>\n",
       "      <td>-4.340684e-01</td>\n",
       "    </tr>\n",
       "  </tbody>\n",
       "</table>\n",
       "</div>"
      ],
      "text/plain": [
       "          Col  coef_lasso    coef_ridge\n",
       "0      MedInc    0.145700  4.446810e-01\n",
       "1    HouseAge    0.005806  9.552146e-03\n",
       "2    AveRooms    0.000000 -1.216311e-01\n",
       "3   AveBedrms   -0.000000  7.771310e-01\n",
       "4  Population   -0.000006 -7.191911e-08\n",
       "5    AveOccup   -0.000000 -3.298916e-03\n",
       "6    Latitude   -0.000000 -4.191216e-01\n",
       "7   Longitude   -0.000000 -4.340684e-01"
      ]
     },
     "execution_count": 46,
     "metadata": {},
     "output_type": "execute_result"
    }
   ],
   "source": [
    "pd.DataFrame({'Col': x_train.columns, 'coef_lasso': model_lasso.coef_, 'coef_ridge': model_ridge.coef_})"
   ]
  }
 ],
 "metadata": {
  "kernelspec": {
   "display_name": "ai",
   "language": "python",
   "name": "python3"
  },
  "language_info": {
   "codemirror_mode": {
    "name": "ipython",
    "version": 3
   },
   "file_extension": ".py",
   "mimetype": "text/x-python",
   "name": "python",
   "nbconvert_exporter": "python",
   "pygments_lexer": "ipython3",
   "version": "3.9.23"
  }
 },
 "nbformat": 4,
 "nbformat_minor": 2
}
